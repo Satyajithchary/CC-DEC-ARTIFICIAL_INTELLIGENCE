{
  "cells": [
    {
      "cell_type": "markdown",
      "id": "97c3b193",
      "metadata": {
        "id": "97c3b193"
      },
      "source": [
        "# Sales Predictor\n",
        "## CodeClause Task\n",
        "* Done By Podakanti Satyajith Chary\n",
        "\n",
        "This is a `time series` analysis where we have used the day to day data for the prediciton of the upcomming days.  "
      ]
    },
    {
      "cell_type": "markdown",
      "id": "83586f81",
      "metadata": {
        "id": "83586f81"
      },
      "source": [
        "### Importing Important Libraries"
      ]
    },
    {
      "cell_type": "code",
      "execution_count": 4,
      "id": "5d4013a3",
      "metadata": {
        "colab": {
          "base_uri": "https://localhost:8080/"
        },
        "id": "5d4013a3",
        "outputId": "c69adbbb-ba04-42e8-b05d-e7e5df24936d"
      },
      "outputs": [
        {
          "output_type": "stream",
          "name": "stdout",
          "text": [
            "Mounted at /content/drive\n"
          ]
        }
      ],
      "source": [
        "from google.colab import drive\n",
        "drive.mount('/content/drive')\n",
        "import os\n",
        "import pandas as pd\n",
        "import numpy as np\n",
        "import matplotlib.pyplot as plt\n",
        "from xgboost import XGBRegressor\n",
        "\n",
        "from sklearn.ensemble import RandomForestRegressor\n",
        "from sklearn.linear_model import LinearRegression\n",
        "from sklearn.preprocessing import MinMaxScaler\n",
        "from sklearn.metrics import mean_absolute_error, mean_squared_error, r2_score\n",
        "from tensorflow.keras.models import Sequential\n",
        "from tensorflow.keras.layers import Dense, LSTM\n",
        "from tensorflow.keras.callbacks import EarlyStopping, ModelCheckpoint"
      ]
    },
    {
      "cell_type": "code",
      "execution_count": 8,
      "id": "954c31bc",
      "metadata": {
        "colab": {
          "base_uri": "https://localhost:8080/",
          "height": 206
        },
        "id": "954c31bc",
        "outputId": "ed8fb60b-c9a2-4317-ae6c-d63241a946d3"
      },
      "outputs": [
        {
          "output_type": "execute_result",
          "data": {
            "text/plain": [
              "         date  store  item  sales\n",
              "0  2013-01-01      1     1     13\n",
              "1  2013-01-02      1     1     11\n",
              "2  2013-01-03      1     1     14\n",
              "3  2013-01-04      1     1     13\n",
              "4  2013-01-05      1     1     10"
            ],
            "text/html": [
              "\n",
              "  <div id=\"df-75f97bf3-ec49-4bba-bc51-73007e88c00d\">\n",
              "    <div class=\"colab-df-container\">\n",
              "      <div>\n",
              "<style scoped>\n",
              "    .dataframe tbody tr th:only-of-type {\n",
              "        vertical-align: middle;\n",
              "    }\n",
              "\n",
              "    .dataframe tbody tr th {\n",
              "        vertical-align: top;\n",
              "    }\n",
              "\n",
              "    .dataframe thead th {\n",
              "        text-align: right;\n",
              "    }\n",
              "</style>\n",
              "<table border=\"1\" class=\"dataframe\">\n",
              "  <thead>\n",
              "    <tr style=\"text-align: right;\">\n",
              "      <th></th>\n",
              "      <th>date</th>\n",
              "      <th>store</th>\n",
              "      <th>item</th>\n",
              "      <th>sales</th>\n",
              "    </tr>\n",
              "  </thead>\n",
              "  <tbody>\n",
              "    <tr>\n",
              "      <th>0</th>\n",
              "      <td>2013-01-01</td>\n",
              "      <td>1</td>\n",
              "      <td>1</td>\n",
              "      <td>13</td>\n",
              "    </tr>\n",
              "    <tr>\n",
              "      <th>1</th>\n",
              "      <td>2013-01-02</td>\n",
              "      <td>1</td>\n",
              "      <td>1</td>\n",
              "      <td>11</td>\n",
              "    </tr>\n",
              "    <tr>\n",
              "      <th>2</th>\n",
              "      <td>2013-01-03</td>\n",
              "      <td>1</td>\n",
              "      <td>1</td>\n",
              "      <td>14</td>\n",
              "    </tr>\n",
              "    <tr>\n",
              "      <th>3</th>\n",
              "      <td>2013-01-04</td>\n",
              "      <td>1</td>\n",
              "      <td>1</td>\n",
              "      <td>13</td>\n",
              "    </tr>\n",
              "    <tr>\n",
              "      <th>4</th>\n",
              "      <td>2013-01-05</td>\n",
              "      <td>1</td>\n",
              "      <td>1</td>\n",
              "      <td>10</td>\n",
              "    </tr>\n",
              "  </tbody>\n",
              "</table>\n",
              "</div>\n",
              "      <button class=\"colab-df-convert\" onclick=\"convertToInteractive('df-75f97bf3-ec49-4bba-bc51-73007e88c00d')\"\n",
              "              title=\"Convert this dataframe to an interactive table.\"\n",
              "              style=\"display:none;\">\n",
              "        \n",
              "  <svg xmlns=\"http://www.w3.org/2000/svg\" height=\"24px\"viewBox=\"0 0 24 24\"\n",
              "       width=\"24px\">\n",
              "    <path d=\"M0 0h24v24H0V0z\" fill=\"none\"/>\n",
              "    <path d=\"M18.56 5.44l.94 2.06.94-2.06 2.06-.94-2.06-.94-.94-2.06-.94 2.06-2.06.94zm-11 1L8.5 8.5l.94-2.06 2.06-.94-2.06-.94L8.5 2.5l-.94 2.06-2.06.94zm10 10l.94 2.06.94-2.06 2.06-.94-2.06-.94-.94-2.06-.94 2.06-2.06.94z\"/><path d=\"M17.41 7.96l-1.37-1.37c-.4-.4-.92-.59-1.43-.59-.52 0-1.04.2-1.43.59L10.3 9.45l-7.72 7.72c-.78.78-.78 2.05 0 2.83L4 21.41c.39.39.9.59 1.41.59.51 0 1.02-.2 1.41-.59l7.78-7.78 2.81-2.81c.8-.78.8-2.07 0-2.86zM5.41 20L4 18.59l7.72-7.72 1.47 1.35L5.41 20z\"/>\n",
              "  </svg>\n",
              "      </button>\n",
              "      \n",
              "  <style>\n",
              "    .colab-df-container {\n",
              "      display:flex;\n",
              "      flex-wrap:wrap;\n",
              "      gap: 12px;\n",
              "    }\n",
              "\n",
              "    .colab-df-convert {\n",
              "      background-color: #E8F0FE;\n",
              "      border: none;\n",
              "      border-radius: 50%;\n",
              "      cursor: pointer;\n",
              "      display: none;\n",
              "      fill: #1967D2;\n",
              "      height: 32px;\n",
              "      padding: 0 0 0 0;\n",
              "      width: 32px;\n",
              "    }\n",
              "\n",
              "    .colab-df-convert:hover {\n",
              "      background-color: #E2EBFA;\n",
              "      box-shadow: 0px 1px 2px rgba(60, 64, 67, 0.3), 0px 1px 3px 1px rgba(60, 64, 67, 0.15);\n",
              "      fill: #174EA6;\n",
              "    }\n",
              "\n",
              "    [theme=dark] .colab-df-convert {\n",
              "      background-color: #3B4455;\n",
              "      fill: #D2E3FC;\n",
              "    }\n",
              "\n",
              "    [theme=dark] .colab-df-convert:hover {\n",
              "      background-color: #434B5C;\n",
              "      box-shadow: 0px 1px 3px 1px rgba(0, 0, 0, 0.15);\n",
              "      filter: drop-shadow(0px 1px 2px rgba(0, 0, 0, 0.3));\n",
              "      fill: #FFFFFF;\n",
              "    }\n",
              "  </style>\n",
              "\n",
              "      <script>\n",
              "        const buttonEl =\n",
              "          document.querySelector('#df-75f97bf3-ec49-4bba-bc51-73007e88c00d button.colab-df-convert');\n",
              "        buttonEl.style.display =\n",
              "          google.colab.kernel.accessAllowed ? 'block' : 'none';\n",
              "\n",
              "        async function convertToInteractive(key) {\n",
              "          const element = document.querySelector('#df-75f97bf3-ec49-4bba-bc51-73007e88c00d');\n",
              "          const dataTable =\n",
              "            await google.colab.kernel.invokeFunction('convertToInteractive',\n",
              "                                                     [key], {});\n",
              "          if (!dataTable) return;\n",
              "\n",
              "          const docLinkHtml = 'Like what you see? Visit the ' +\n",
              "            '<a target=\"_blank\" href=https://colab.research.google.com/notebooks/data_table.ipynb>data table notebook</a>'\n",
              "            + ' to learn more about interactive tables.';\n",
              "          element.innerHTML = '';\n",
              "          dataTable['output_type'] = 'display_data';\n",
              "          await google.colab.output.renderOutput(dataTable, element);\n",
              "          const docLink = document.createElement('div');\n",
              "          docLink.innerHTML = docLinkHtml;\n",
              "          element.appendChild(docLink);\n",
              "        }\n",
              "      </script>\n",
              "    </div>\n",
              "  </div>\n",
              "  "
            ]
          },
          "metadata": {},
          "execution_count": 8
        }
      ],
      "source": [
        "#loading data\n",
        "path = \"/content/drive/MyDrive/train.csv\"\n",
        "sale_data = pd.read_csv(path)\n",
        "sale_data.drop(columns=[\"Unnamed: 0\"], inplace=True, errors='ignore')\n",
        "sale_data.head()\n"
      ]
    },
    {
      "cell_type": "code",
      "execution_count": 9,
      "id": "6b6eb645",
      "metadata": {
        "colab": {
          "base_uri": "https://localhost:8080/"
        },
        "id": "6b6eb645",
        "outputId": "edb1dccc-fad7-4e03-cea5-f435bfa825a5"
      },
      "outputs": [
        {
          "output_type": "execute_result",
          "data": {
            "text/plain": [
              "Index(['date', 'store', 'item', 'sales'], dtype='object')"
            ]
          },
          "metadata": {},
          "execution_count": 9
        }
      ],
      "source": [
        "sale_data.columns"
      ]
    },
    {
      "cell_type": "code",
      "execution_count": 10,
      "id": "76caf2ef",
      "metadata": {
        "colab": {
          "base_uri": "https://localhost:8080/"
        },
        "id": "76caf2ef",
        "outputId": "f5a7d93c-ea7d-4d62-f1d9-405e3ccf5354"
      },
      "outputs": [
        {
          "output_type": "stream",
          "name": "stdout",
          "text": [
            "<class 'pandas.core.frame.DataFrame'>\n",
            "RangeIndex: 913000 entries, 0 to 912999\n",
            "Data columns (total 4 columns):\n",
            " #   Column  Non-Null Count   Dtype \n",
            "---  ------  --------------   ----- \n",
            " 0   date    913000 non-null  object\n",
            " 1   store   913000 non-null  int64 \n",
            " 2   item    913000 non-null  int64 \n",
            " 3   sales   913000 non-null  int64 \n",
            "dtypes: int64(3), object(1)\n",
            "memory usage: 27.9+ MB\n"
          ]
        }
      ],
      "source": [
        "sale_data.info()"
      ]
    },
    {
      "cell_type": "markdown",
      "id": "b04645c8",
      "metadata": {
        "id": "b04645c8"
      },
      "source": [
        "There are no null data in sales so we can proceed with the further works."
      ]
    },
    {
      "cell_type": "markdown",
      "id": "fa00aec4",
      "metadata": {
        "id": "fa00aec4"
      },
      "source": [
        "### Visualising Dataset property"
      ]
    },
    {
      "cell_type": "code",
      "execution_count": 11,
      "id": "b05a2b2c",
      "metadata": {
        "colab": {
          "base_uri": "https://localhost:8080/",
          "height": 282
        },
        "id": "b05a2b2c",
        "outputId": "0334a601-fac4-4b4a-8252-1146fea83827"
      },
      "outputs": [
        {
          "output_type": "execute_result",
          "data": {
            "text/plain": [
              "<matplotlib.axes._subplots.AxesSubplot at 0x7f04985fb820>"
            ]
          },
          "metadata": {},
          "execution_count": 11
        },
        {
          "output_type": "display_data",
          "data": {
            "text/plain": [
              "<Figure size 432x288 with 1 Axes>"
            ],
            "image/png": "[encoded data removed]"
          },
          "metadata": {
            "needs_background": "light"
          }
        }
      ],
      "source": [
        "sale_data.sales.hist()"
      ]
    },
    {
      "cell_type": "markdown",
      "id": "be175b9a",
      "metadata": {
        "id": "be175b9a"
      },
      "source": [
        "we are going to work with `sales` column so let's drop store and item column."
      ]
    },
    {
      "cell_type": "code",
      "execution_count": 12,
      "id": "2cac63e4",
      "metadata": {
        "id": "2cac63e4"
      },
      "outputs": [],
      "source": [
        "sale_data = sale_data.drop(['store' , 'item'] , axis = 1)"
      ]
    },
    {
      "cell_type": "markdown",
      "id": "4b36945c",
      "metadata": {
        "id": "4b36945c"
      },
      "source": [
        "For the convinent use of Data and time we have to convert it into date time type"
      ]
    },
    {
      "cell_type": "code",
      "execution_count": 13,
      "id": "686c3e84",
      "metadata": {
        "id": "686c3e84"
      },
      "outputs": [],
      "source": [
        "sale_data.date = pd.to_datetime(sale_data.date)"
      ]
    },
    {
      "cell_type": "code",
      "execution_count": 14,
      "id": "5d093586",
      "metadata": {
        "colab": {
          "base_uri": "https://localhost:8080/"
        },
        "id": "5d093586",
        "outputId": "8fb15770-173f-4ebe-83fb-a4f3e419c9ac"
      },
      "outputs": [
        {
          "output_type": "stream",
          "name": "stdout",
          "text": [
            "<class 'pandas.core.frame.DataFrame'>\n",
            "RangeIndex: 913000 entries, 0 to 912999\n",
            "Data columns (total 2 columns):\n",
            " #   Column  Non-Null Count   Dtype         \n",
            "---  ------  --------------   -----         \n",
            " 0   date    913000 non-null  datetime64[ns]\n",
            " 1   sales   913000 non-null  int64         \n",
            "dtypes: datetime64[ns](1), int64(1)\n",
            "memory usage: 13.9 MB\n"
          ]
        }
      ],
      "source": [
        "sale_data.info()"
      ]
    },
    {
      "cell_type": "code",
      "execution_count": 15,
      "id": "0c2809b7",
      "metadata": {
        "id": "0c2809b7"
      },
      "outputs": [],
      "source": [
        "#again Let's convert date to a month period\n",
        "#find the sales for the each month\n",
        "\n",
        "sale_data.date = sale_data.date.dt.to_period(\"m\")\n"
      ]
    },
    {
      "cell_type": "code",
      "execution_count": 16,
      "id": "9c8f03f3",
      "metadata": {
        "colab": {
          "base_uri": "https://localhost:8080/",
          "height": 206
        },
        "id": "9c8f03f3",
        "outputId": "6cfbed50-bef3-4611-b249-e464d46fcb72"
      },
      "outputs": [
        {
          "output_type": "execute_result",
          "data": {
            "text/plain": [
              "        date   sales\n",
              "0 2013-01-01  454904\n",
              "1 2013-02-01  459417\n",
              "2 2013-03-01  617382\n",
              "3 2013-04-01  682274\n",
              "4 2013-05-01  763242"
            ],
            "text/html": [
              "\n",
              "  <div id=\"df-049ceaba-6236-4173-8075-5870d40d7e02\">\n",
              "    <div class=\"colab-df-container\">\n",
              "      <div>\n",
              "<style scoped>\n",
              "    .dataframe tbody tr th:only-of-type {\n",
              "        vertical-align: middle;\n",
              "    }\n",
              "\n",
              "    .dataframe tbody tr th {\n",
              "        vertical-align: top;\n",
              "    }\n",
              "\n",
              "    .dataframe thead th {\n",
              "        text-align: right;\n",
              "    }\n",
              "</style>\n",
              "<table border=\"1\" class=\"dataframe\">\n",
              "  <thead>\n",
              "    <tr style=\"text-align: right;\">\n",
              "      <th></th>\n",
              "      <th>date</th>\n",
              "      <th>sales</th>\n",
              "    </tr>\n",
              "  </thead>\n",
              "  <tbody>\n",
              "    <tr>\n",
              "      <th>0</th>\n",
              "      <td>2013-01-01</td>\n",
              "      <td>454904</td>\n",
              "    </tr>\n",
              "    <tr>\n",
              "      <th>1</th>\n",
              "      <td>2013-02-01</td>\n",
              "      <td>459417</td>\n",
              "    </tr>\n",
              "    <tr>\n",
              "      <th>2</th>\n",
              "      <td>2013-03-01</td>\n",
              "      <td>617382</td>\n",
              "    </tr>\n",
              "    <tr>\n",
              "      <th>3</th>\n",
              "      <td>2013-04-01</td>\n",
              "      <td>682274</td>\n",
              "    </tr>\n",
              "    <tr>\n",
              "      <th>4</th>\n",
              "      <td>2013-05-01</td>\n",
              "      <td>763242</td>\n",
              "    </tr>\n",
              "  </tbody>\n",
              "</table>\n",
              "</div>\n",
              "      <button class=\"colab-df-convert\" onclick=\"convertToInteractive('df-049ceaba-6236-4173-8075-5870d40d7e02')\"\n",
              "              title=\"Convert this dataframe to an interactive table.\"\n",
              "              style=\"display:none;\">\n",
              "        \n",
              "  <svg xmlns=\"http://www.w3.org/2000/svg\" height=\"24px\"viewBox=\"0 0 24 24\"\n",
              "       width=\"24px\">\n",
              "    <path d=\"M0 0h24v24H0V0z\" fill=\"none\"/>\n",
              "    <path d=\"M18.56 5.44l.94 2.06.94-2.06 2.06-.94-2.06-.94-.94-2.06-.94 2.06-2.06.94zm-11 1L8.5 8.5l.94-2.06 2.06-.94-2.06-.94L8.5 2.5l-.94 2.06-2.06.94zm10 10l.94 2.06.94-2.06 2.06-.94-2.06-.94-.94-2.06-.94 2.06-2.06.94z\"/><path d=\"M17.41 7.96l-1.37-1.37c-.4-.4-.92-.59-1.43-.59-.52 0-1.04.2-1.43.59L10.3 9.45l-7.72 7.72c-.78.78-.78 2.05 0 2.83L4 21.41c.39.39.9.59 1.41.59.51 0 1.02-.2 1.41-.59l7.78-7.78 2.81-2.81c.8-.78.8-2.07 0-2.86zM5.41 20L4 18.59l7.72-7.72 1.47 1.35L5.41 20z\"/>\n",
              "  </svg>\n",
              "      </button>\n",
              "      \n",
              "  <style>\n",
              "    .colab-df-container {\n",
              "      display:flex;\n",
              "      flex-wrap:wrap;\n",
              "      gap: 12px;\n",
              "    }\n",
              "\n",
              "    .colab-df-convert {\n",
              "      background-color: #E8F0FE;\n",
              "      border: none;\n",
              "      border-radius: 50%;\n",
              "      cursor: pointer;\n",
              "      display: none;\n",
              "      fill: #1967D2;\n",
              "      height: 32px;\n",
              "      padding: 0 0 0 0;\n",
              "      width: 32px;\n",
              "    }\n",
              "\n",
              "    .colab-df-convert:hover {\n",
              "      background-color: #E2EBFA;\n",
              "      box-shadow: 0px 1px 2px rgba(60, 64, 67, 0.3), 0px 1px 3px 1px rgba(60, 64, 67, 0.15);\n",
              "      fill: #174EA6;\n",
              "    }\n",
              "\n",
              "    [theme=dark] .colab-df-convert {\n",
              "      background-color: #3B4455;\n",
              "      fill: #D2E3FC;\n",
              "    }\n",
              "\n",
              "    [theme=dark] .colab-df-convert:hover {\n",
              "      background-color: #434B5C;\n",
              "      box-shadow: 0px 1px 3px 1px rgba(0, 0, 0, 0.15);\n",
              "      filter: drop-shadow(0px 1px 2px rgba(0, 0, 0, 0.3));\n",
              "      fill: #FFFFFF;\n",
              "    }\n",
              "  </style>\n",
              "\n",
              "      <script>\n",
              "        const buttonEl =\n",
              "          document.querySelector('#df-049ceaba-6236-4173-8075-5870d40d7e02 button.colab-df-convert');\n",
              "        buttonEl.style.display =\n",
              "          google.colab.kernel.accessAllowed ? 'block' : 'none';\n",
              "\n",
              "        async function convertToInteractive(key) {\n",
              "          const element = document.querySelector('#df-049ceaba-6236-4173-8075-5870d40d7e02');\n",
              "          const dataTable =\n",
              "            await google.colab.kernel.invokeFunction('convertToInteractive',\n",
              "                                                     [key], {});\n",
              "          if (!dataTable) return;\n",
              "\n",
              "          const docLinkHtml = 'Like what you see? Visit the ' +\n",
              "            '<a target=\"_blank\" href=https://colab.research.google.com/notebooks/data_table.ipynb>data table notebook</a>'\n",
              "            + ' to learn more about interactive tables.';\n",
              "          element.innerHTML = '';\n",
              "          dataTable['output_type'] = 'display_data';\n",
              "          await google.colab.output.renderOutput(dataTable, element);\n",
              "          const docLink = document.createElement('div');\n",
              "          docLink.innerHTML = docLinkHtml;\n",
              "          element.appendChild(docLink);\n",
              "        }\n",
              "      </script>\n",
              "    </div>\n",
              "  </div>\n",
              "  "
            ]
          },
          "metadata": {},
          "execution_count": 16
        }
      ],
      "source": [
        "monthly_sale = sale_data.groupby('date').sum().reset_index()\n",
        "\n",
        "\n",
        "\n",
        "monthly_sale.date =  monthly_sale.date.dt.to_timestamp()\n",
        "\n",
        "monthly_sale.head()\n"
      ]
    },
    {
      "cell_type": "markdown",
      "id": "1eea140f",
      "metadata": {
        "id": "1eea140f"
      },
      "source": [
        "### Since the data is in `increasing` order we can also visualise in graph for making data `stationary` we'll take        difference of data consequtively"
      ]
    },
    {
      "cell_type": "code",
      "execution_count": 17,
      "id": "dad5fefd",
      "metadata": {
        "colab": {
          "base_uri": "https://localhost:8080/",
          "height": 372
        },
        "id": "dad5fefd",
        "outputId": "b3abf526-8537-415f-b640-406dab97689b"
      },
      "outputs": [
        {
          "output_type": "execute_result",
          "data": {
            "text/plain": [
              "Text(0.5, 1.0, 'Montly sales Normally')"
            ]
          },
          "metadata": {},
          "execution_count": 17
        },
        {
          "output_type": "display_data",
          "data": {
            "text/plain": [
              "<Figure size 1080x360 with 1 Axes>"
            ],
            "image/png": "[encoded data removed]"
          },
          "metadata": {
            "needs_background": "light"
          }
        }
      ],
      "source": [
        "\n",
        "monthly_sale['sales_diff'] = monthly_sale['sales'].diff()\n",
        "monthly_sale = monthly_sale.dropna()\n",
        "\n",
        "\n",
        "plt.figure(figsize = (15 ,5))\n",
        "plt.plot(monthly_sale.date , monthly_sale.sales)\n",
        "plt.xlabel(\"Date\")\n",
        "plt.ylabel(\"sales\")\n",
        "plt.title(\"Montly sales Normally\" , color = \"purple\" , fontsize =  20)"
      ]
    },
    {
      "cell_type": "code",
      "execution_count": 18,
      "id": "b45767ae",
      "metadata": {
        "colab": {
          "base_uri": "https://localhost:8080/",
          "height": 372
        },
        "id": "b45767ae",
        "outputId": "013b65f5-0903-4856-dce4-bba905a15745"
      },
      "outputs": [
        {
          "output_type": "execute_result",
          "data": {
            "text/plain": [
              "Text(0.5, 1.0, 'Montly sales when stationary')"
            ]
          },
          "metadata": {},
          "execution_count": 18
        },
        {
          "output_type": "display_data",
          "data": {
            "text/plain": [
              "<Figure size 1080x360 with 1 Axes>"
            ],
            "image/png": "[encoded data removed]"
          },
          "metadata": {
            "needs_background": "light"
          }
        }
      ],
      "source": [
        "plt.figure(figsize = (15 ,5))\n",
        "plt.plot(monthly_sale.date , monthly_sale.sales_diff)\n",
        "plt.xlabel(\"Date\")\n",
        "plt.ylabel(\"sales\")\n",
        "plt.title(\"Montly sales when stationary\" , color = \"purple\" , fontsize =  20)"
      ]
    },
    {
      "cell_type": "markdown",
      "id": "2310acde",
      "metadata": {
        "id": "2310acde"
      },
      "source": [
        "We have finally made our data stationary by finding difference and it became stationary because it has the increasing trend earlier"
      ]
    },
    {
      "cell_type": "code",
      "execution_count": 19,
      "id": "8ad11448",
      "metadata": {
        "colab": {
          "base_uri": "https://localhost:8080/",
          "height": 1000
        },
        "id": "8ad11448",
        "outputId": "0407a702-0a1b-425f-a63c-987690ea901b"
      },
      "outputs": [
        {
          "output_type": "execute_result",
          "data": {
            "text/plain": [
              "    sales_diff\n",
              "1       4513.0\n",
              "2     157965.0\n",
              "3      64892.0\n",
              "4      80968.0\n",
              "5      32355.0\n",
              "6      60325.0\n",
              "7     -89161.0\n",
              "8     -76854.0\n",
              "9     -33320.0\n",
              "10     36056.0\n",
              "11   -186036.0\n",
              "12     19380.0\n",
              "13      3130.0\n",
              "14    175184.0\n",
              "15     84613.0\n",
              "16     93963.0\n",
              "17     23965.0\n",
              "18     82168.0\n",
              "19   -103414.0\n",
              "20   -100472.0\n",
              "21    -26241.0\n",
              "22     41900.0\n",
              "23   -222735.0\n",
              "24    -25535.0\n",
              "25     -1196.0\n",
              "26    179634.0\n",
              "27     93516.0\n",
              "28    102435.0\n",
              "29     10282.0\n",
              "30    100166.0\n",
              "31   -116949.0\n",
              "32    -97069.0\n",
              "33    -26079.0\n",
              "34     30392.0\n",
              "35   -220073.0\n",
              "36     -5133.0\n",
              "37     12518.0\n",
              "38    175924.0\n",
              "39    111069.0\n",
              "40     86780.0\n",
              "41     33934.0\n",
              "42    116054.0\n",
              "43   -157224.0\n",
              "44    -84663.0\n",
              "45    -33194.0\n",
              "46     27811.0\n",
              "47   -228037.0\n",
              "48    -46105.0\n",
              "49      4063.0\n",
              "50    201298.0\n",
              "51    116195.0\n",
              "52     81824.0\n",
              "53     43938.0\n",
              "54    106769.0\n",
              "55   -144990.0\n",
              "56    -91140.0\n",
              "57    -44103.0\n",
              "58     37677.0\n",
              "59   -233667.0"
            ],
            "text/html": [
              "\n",
              "  <div id=\"df-339a8ffa-d963-42b3-85cc-4b484a61dfca\">\n",
              "    <div class=\"colab-df-container\">\n",
              "      <div>\n",
              "<style scoped>\n",
              "    .dataframe tbody tr th:only-of-type {\n",
              "        vertical-align: middle;\n",
              "    }\n",
              "\n",
              "    .dataframe tbody tr th {\n",
              "        vertical-align: top;\n",
              "    }\n",
              "\n",
              "    .dataframe thead th {\n",
              "        text-align: right;\n",
              "    }\n",
              "</style>\n",
              "<table border=\"1\" class=\"dataframe\">\n",
              "  <thead>\n",
              "    <tr style=\"text-align: right;\">\n",
              "      <th></th>\n",
              "      <th>sales_diff</th>\n",
              "    </tr>\n",
              "  </thead>\n",
              "  <tbody>\n",
              "    <tr>\n",
              "      <th>1</th>\n",
              "      <td>4513.0</td>\n",
              "    </tr>\n",
              "    <tr>\n",
              "      <th>2</th>\n",
              "      <td>157965.0</td>\n",
              "    </tr>\n",
              "    <tr>\n",
              "      <th>3</th>\n",
              "      <td>64892.0</td>\n",
              "    </tr>\n",
              "    <tr>\n",
              "      <th>4</th>\n",
              "      <td>80968.0</td>\n",
              "    </tr>\n",
              "    <tr>\n",
              "      <th>5</th>\n",
              "      <td>32355.0</td>\n",
              "    </tr>\n",
              "    <tr>\n",
              "      <th>6</th>\n",
              "      <td>60325.0</td>\n",
              "    </tr>\n",
              "    <tr>\n",
              "      <th>7</th>\n",
              "      <td>-89161.0</td>\n",
              "    </tr>\n",
              "    <tr>\n",
              "      <th>8</th>\n",
              "      <td>-76854.0</td>\n",
              "    </tr>\n",
              "    <tr>\n",
              "      <th>9</th>\n",
              "      <td>-33320.0</td>\n",
              "    </tr>\n",
              "    <tr>\n",
              "      <th>10</th>\n",
              "      <td>36056.0</td>\n",
              "    </tr>\n",
              "    <tr>\n",
              "      <th>11</th>\n",
              "      <td>-186036.0</td>\n",
              "    </tr>\n",
              "    <tr>\n",
              "      <th>12</th>\n",
              "      <td>19380.0</td>\n",
              "    </tr>\n",
              "    <tr>\n",
              "      <th>13</th>\n",
              "      <td>3130.0</td>\n",
              "    </tr>\n",
              "    <tr>\n",
              "      <th>14</th>\n",
              "      <td>175184.0</td>\n",
              "    </tr>\n",
              "    <tr>\n",
              "      <th>15</th>\n",
              "      <td>84613.0</td>\n",
              "    </tr>\n",
              "    <tr>\n",
              "      <th>16</th>\n",
              "      <td>93963.0</td>\n",
              "    </tr>\n",
              "    <tr>\n",
              "      <th>17</th>\n",
              "      <td>23965.0</td>\n",
              "    </tr>\n",
              "    <tr>\n",
              "      <th>18</th>\n",
              "      <td>82168.0</td>\n",
              "    </tr>\n",
              "    <tr>\n",
              "      <th>19</th>\n",
              "      <td>-103414.0</td>\n",
              "    </tr>\n",
              "    <tr>\n",
              "      <th>20</th>\n",
              "      <td>-100472.0</td>\n",
              "    </tr>\n",
              "    <tr>\n",
              "      <th>21</th>\n",
              "      <td>-26241.0</td>\n",
              "    </tr>\n",
              "    <tr>\n",
              "      <th>22</th>\n",
              "      <td>41900.0</td>\n",
              "    </tr>\n",
              "    <tr>\n",
              "      <th>23</th>\n",
              "      <td>-222735.0</td>\n",
              "    </tr>\n",
              "    <tr>\n",
              "      <th>24</th>\n",
              "      <td>-25535.0</td>\n",
              "    </tr>\n",
              "    <tr>\n",
              "      <th>25</th>\n",
              "      <td>-1196.0</td>\n",
              "    </tr>\n",
              "    <tr>\n",
              "      <th>26</th>\n",
              "      <td>179634.0</td>\n",
              "    </tr>\n",
              "    <tr>\n",
              "      <th>27</th>\n",
              "      <td>93516.0</td>\n",
              "    </tr>\n",
              "    <tr>\n",
              "      <th>28</th>\n",
              "      <td>102435.0</td>\n",
              "    </tr>\n",
              "    <tr>\n",
              "      <th>29</th>\n",
              "      <td>10282.0</td>\n",
              "    </tr>\n",
              "    <tr>\n",
              "      <th>30</th>\n",
              "      <td>100166.0</td>\n",
              "    </tr>\n",
              "    <tr>\n",
              "      <th>31</th>\n",
              "      <td>-116949.0</td>\n",
              "    </tr>\n",
              "    <tr>\n",
              "      <th>32</th>\n",
              "      <td>-97069.0</td>\n",
              "    </tr>\n",
              "    <tr>\n",
              "      <th>33</th>\n",
              "      <td>-26079.0</td>\n",
              "    </tr>\n",
              "    <tr>\n",
              "      <th>34</th>\n",
              "      <td>30392.0</td>\n",
              "    </tr>\n",
              "    <tr>\n",
              "      <th>35</th>\n",
              "      <td>-220073.0</td>\n",
              "    </tr>\n",
              "    <tr>\n",
              "      <th>36</th>\n",
              "      <td>-5133.0</td>\n",
              "    </tr>\n",
              "    <tr>\n",
              "      <th>37</th>\n",
              "      <td>12518.0</td>\n",
              "    </tr>\n",
              "    <tr>\n",
              "      <th>38</th>\n",
              "      <td>175924.0</td>\n",
              "    </tr>\n",
              "    <tr>\n",
              "      <th>39</th>\n",
              "      <td>111069.0</td>\n",
              "    </tr>\n",
              "    <tr>\n",
              "      <th>40</th>\n",
              "      <td>86780.0</td>\n",
              "    </tr>\n",
              "    <tr>\n",
              "      <th>41</th>\n",
              "      <td>33934.0</td>\n",
              "    </tr>\n",
              "    <tr>\n",
              "      <th>42</th>\n",
              "      <td>116054.0</td>\n",
              "    </tr>\n",
              "    <tr>\n",
              "      <th>43</th>\n",
              "      <td>-157224.0</td>\n",
              "    </tr>\n",
              "    <tr>\n",
              "      <th>44</th>\n",
              "      <td>-84663.0</td>\n",
              "    </tr>\n",
              "    <tr>\n",
              "      <th>45</th>\n",
              "      <td>-33194.0</td>\n",
              "    </tr>\n",
              "    <tr>\n",
              "      <th>46</th>\n",
              "      <td>27811.0</td>\n",
              "    </tr>\n",
              "    <tr>\n",
              "      <th>47</th>\n",
              "      <td>-228037.0</td>\n",
              "    </tr>\n",
              "    <tr>\n",
              "      <th>48</th>\n",
              "      <td>-46105.0</td>\n",
              "    </tr>\n",
              "    <tr>\n",
              "      <th>49</th>\n",
              "      <td>4063.0</td>\n",
              "    </tr>\n",
              "    <tr>\n",
              "      <th>50</th>\n",
              "      <td>201298.0</td>\n",
              "    </tr>\n",
              "    <tr>\n",
              "      <th>51</th>\n",
              "      <td>116195.0</td>\n",
              "    </tr>\n",
              "    <tr>\n",
              "      <th>52</th>\n",
              "      <td>81824.0</td>\n",
              "    </tr>\n",
              "    <tr>\n",
              "      <th>53</th>\n",
              "      <td>43938.0</td>\n",
              "    </tr>\n",
              "    <tr>\n",
              "      <th>54</th>\n",
              "      <td>106769.0</td>\n",
              "    </tr>\n",
              "    <tr>\n",
              "      <th>55</th>\n",
              "      <td>-144990.0</td>\n",
              "    </tr>\n",
              "    <tr>\n",
              "      <th>56</th>\n",
              "      <td>-91140.0</td>\n",
              "    </tr>\n",
              "    <tr>\n",
              "      <th>57</th>\n",
              "      <td>-44103.0</td>\n",
              "    </tr>\n",
              "    <tr>\n",
              "      <th>58</th>\n",
              "      <td>37677.0</td>\n",
              "    </tr>\n",
              "    <tr>\n",
              "      <th>59</th>\n",
              "      <td>-233667.0</td>\n",
              "    </tr>\n",
              "  </tbody>\n",
              "</table>\n",
              "</div>\n",
              "      <button class=\"colab-df-convert\" onclick=\"convertToInteractive('df-339a8ffa-d963-42b3-85cc-4b484a61dfca')\"\n",
              "              title=\"Convert this dataframe to an interactive table.\"\n",
              "              style=\"display:none;\">\n",
              "        \n",
              "  <svg xmlns=\"http://www.w3.org/2000/svg\" height=\"24px\"viewBox=\"0 0 24 24\"\n",
              "       width=\"24px\">\n",
              "    <path d=\"M0 0h24v24H0V0z\" fill=\"none\"/>\n",
              "    <path d=\"M18.56 5.44l.94 2.06.94-2.06 2.06-.94-2.06-.94-.94-2.06-.94 2.06-2.06.94zm-11 1L8.5 8.5l.94-2.06 2.06-.94-2.06-.94L8.5 2.5l-.94 2.06-2.06.94zm10 10l.94 2.06.94-2.06 2.06-.94-2.06-.94-.94-2.06-.94 2.06-2.06.94z\"/><path d=\"M17.41 7.96l-1.37-1.37c-.4-.4-.92-.59-1.43-.59-.52 0-1.04.2-1.43.59L10.3 9.45l-7.72 7.72c-.78.78-.78 2.05 0 2.83L4 21.41c.39.39.9.59 1.41.59.51 0 1.02-.2 1.41-.59l7.78-7.78 2.81-2.81c.8-.78.8-2.07 0-2.86zM5.41 20L4 18.59l7.72-7.72 1.47 1.35L5.41 20z\"/>\n",
              "  </svg>\n",
              "      </button>\n",
              "      \n",
              "  <style>\n",
              "    .colab-df-container {\n",
              "      display:flex;\n",
              "      flex-wrap:wrap;\n",
              "      gap: 12px;\n",
              "    }\n",
              "\n",
              "    .colab-df-convert {\n",
              "      background-color: #E8F0FE;\n",
              "      border: none;\n",
              "      border-radius: 50%;\n",
              "      cursor: pointer;\n",
              "      display: none;\n",
              "      fill: #1967D2;\n",
              "      height: 32px;\n",
              "      padding: 0 0 0 0;\n",
              "      width: 32px;\n",
              "    }\n",
              "\n",
              "    .colab-df-convert:hover {\n",
              "      background-color: #E2EBFA;\n",
              "      box-shadow: 0px 1px 2px rgba(60, 64, 67, 0.3), 0px 1px 3px 1px rgba(60, 64, 67, 0.15);\n",
              "      fill: #174EA6;\n",
              "    }\n",
              "\n",
              "    [theme=dark] .colab-df-convert {\n",
              "      background-color: #3B4455;\n",
              "      fill: #D2E3FC;\n",
              "    }\n",
              "\n",
              "    [theme=dark] .colab-df-convert:hover {\n",
              "      background-color: #434B5C;\n",
              "      box-shadow: 0px 1px 3px 1px rgba(0, 0, 0, 0.15);\n",
              "      filter: drop-shadow(0px 1px 2px rgba(0, 0, 0, 0.3));\n",
              "      fill: #FFFFFF;\n",
              "    }\n",
              "  </style>\n",
              "\n",
              "      <script>\n",
              "        const buttonEl =\n",
              "          document.querySelector('#df-339a8ffa-d963-42b3-85cc-4b484a61dfca button.colab-df-convert');\n",
              "        buttonEl.style.display =\n",
              "          google.colab.kernel.accessAllowed ? 'block' : 'none';\n",
              "\n",
              "        async function convertToInteractive(key) {\n",
              "          const element = document.querySelector('#df-339a8ffa-d963-42b3-85cc-4b484a61dfca');\n",
              "          const dataTable =\n",
              "            await google.colab.kernel.invokeFunction('convertToInteractive',\n",
              "                                                     [key], {});\n",
              "          if (!dataTable) return;\n",
              "\n",
              "          const docLinkHtml = 'Like what you see? Visit the ' +\n",
              "            '<a target=\"_blank\" href=https://colab.research.google.com/notebooks/data_table.ipynb>data table notebook</a>'\n",
              "            + ' to learn more about interactive tables.';\n",
              "          element.innerHTML = '';\n",
              "          dataTable['output_type'] = 'display_data';\n",
              "          await google.colab.output.renderOutput(dataTable, element);\n",
              "          const docLink = document.createElement('div');\n",
              "          docLink.innerHTML = docLinkHtml;\n",
              "          element.appendChild(docLink);\n",
              "        }\n",
              "      </script>\n",
              "    </div>\n",
              "  </div>\n",
              "  "
            ]
          },
          "metadata": {},
          "execution_count": 19
        }
      ],
      "source": [
        "Final_data = monthly_sale.drop(['date','sales'], axis=1)\n",
        "Final_data"
      ]
    },
    {
      "cell_type": "code",
      "execution_count": 19,
      "id": "18462db9",
      "metadata": {
        "id": "18462db9"
      },
      "outputs": [],
      "source": []
    },
    {
      "cell_type": "markdown",
      "id": "af6d522b",
      "metadata": {
        "id": "af6d522b"
      },
      "source": [
        "We need to predict the 13th month sale from the use of the previous 12 month sale so splitting data in similar way.\n",
        "\n",
        "Using following logic"
      ]
    },
    {
      "cell_type": "code",
      "execution_count": 20,
      "id": "0a041089",
      "metadata": {
        "id": "0a041089"
      },
      "outputs": [],
      "source": [
        "for i in range(1,13):\n",
        "    #we put the column name from 1 to 12 i,e month_1 , month_2 etc\n",
        "    column_name = 'month_' + str(i)\n",
        "    \n",
        "    #shift is most importat thing here below is the explanation\n",
        "    Final_data[column_name] = Final_data['sales_diff'].shift(i)\n",
        "Final_data = Final_data.dropna().reset_index(drop=True)"
      ]
    },
    {
      "cell_type": "code",
      "execution_count": 21,
      "id": "c8cc94a4",
      "metadata": {
        "colab": {
          "base_uri": "https://localhost:8080/",
          "height": 206
        },
        "id": "c8cc94a4",
        "outputId": "883deda5-958f-457b-9ec9-314cd63612d7"
      },
      "outputs": [
        {
          "output_type": "execute_result",
          "data": {
            "text/plain": [
              "   sales_diff   month_1   month_2   month_3   month_4   month_5   month_6  \\\n",
              "0      3130.0   19380.0 -186036.0   36056.0  -33320.0  -76854.0  -89161.0   \n",
              "1    175184.0    3130.0   19380.0 -186036.0   36056.0  -33320.0  -76854.0   \n",
              "2     84613.0  175184.0    3130.0   19380.0 -186036.0   36056.0  -33320.0   \n",
              "3     93963.0   84613.0  175184.0    3130.0   19380.0 -186036.0   36056.0   \n",
              "4     23965.0   93963.0   84613.0  175184.0    3130.0   19380.0 -186036.0   \n",
              "\n",
              "   month_7  month_8  month_9  month_10  month_11  month_12  \n",
              "0  60325.0  32355.0  80968.0   64892.0  157965.0    4513.0  \n",
              "1 -89161.0  60325.0  32355.0   80968.0   64892.0  157965.0  \n",
              "2 -76854.0 -89161.0  60325.0   32355.0   80968.0   64892.0  \n",
              "3 -33320.0 -76854.0 -89161.0   60325.0   32355.0   80968.0  \n",
              "4  36056.0 -33320.0 -76854.0  -89161.0   60325.0   32355.0  "
            ],
            "text/html": [
              "\n",
              "  <div id=\"df-a713ed46-bcc9-48df-b206-4ef4d54a84ef\">\n",
              "    <div class=\"colab-df-container\">\n",
              "      <div>\n",
              "<style scoped>\n",
              "    .dataframe tbody tr th:only-of-type {\n",
              "        vertical-align: middle;\n",
              "    }\n",
              "\n",
              "    .dataframe tbody tr th {\n",
              "        vertical-align: top;\n",
              "    }\n",
              "\n",
              "    .dataframe thead th {\n",
              "        text-align: right;\n",
              "    }\n",
              "</style>\n",
              "<table border=\"1\" class=\"dataframe\">\n",
              "  <thead>\n",
              "    <tr style=\"text-align: right;\">\n",
              "      <th></th>\n",
              "      <th>sales_diff</th>\n",
              "      <th>month_1</th>\n",
              "      <th>month_2</th>\n",
              "      <th>month_3</th>\n",
              "      <th>month_4</th>\n",
              "      <th>month_5</th>\n",
              "      <th>month_6</th>\n",
              "      <th>month_7</th>\n",
              "      <th>month_8</th>\n",
              "      <th>month_9</th>\n",
              "      <th>month_10</th>\n",
              "      <th>month_11</th>\n",
              "      <th>month_12</th>\n",
              "    </tr>\n",
              "  </thead>\n",
              "  <tbody>\n",
              "    <tr>\n",
              "      <th>0</th>\n",
              "      <td>3130.0</td>\n",
              "      <td>19380.0</td>\n",
              "      <td>-186036.0</td>\n",
              "      <td>36056.0</td>\n",
              "      <td>-33320.0</td>\n",
              "      <td>-76854.0</td>\n",
              "      <td>-89161.0</td>\n",
              "      <td>60325.0</td>\n",
              "      <td>32355.0</td>\n",
              "      <td>80968.0</td>\n",
              "      <td>64892.0</td>\n",
              "      <td>157965.0</td>\n",
              "      <td>4513.0</td>\n",
              "    </tr>\n",
              "    <tr>\n",
              "      <th>1</th>\n",
              "      <td>175184.0</td>\n",
              "      <td>3130.0</td>\n",
              "      <td>19380.0</td>\n",
              "      <td>-186036.0</td>\n",
              "      <td>36056.0</td>\n",
              "      <td>-33320.0</td>\n",
              "      <td>-76854.0</td>\n",
              "      <td>-89161.0</td>\n",
              "      <td>60325.0</td>\n",
              "      <td>32355.0</td>\n",
              "      <td>80968.0</td>\n",
              "      <td>64892.0</td>\n",
              "      <td>157965.0</td>\n",
              "    </tr>\n",
              "    <tr>\n",
              "      <th>2</th>\n",
              "      <td>84613.0</td>\n",
              "      <td>175184.0</td>\n",
              "      <td>3130.0</td>\n",
              "      <td>19380.0</td>\n",
              "      <td>-186036.0</td>\n",
              "      <td>36056.0</td>\n",
              "      <td>-33320.0</td>\n",
              "      <td>-76854.0</td>\n",
              "      <td>-89161.0</td>\n",
              "      <td>60325.0</td>\n",
              "      <td>32355.0</td>\n",
              "      <td>80968.0</td>\n",
              "      <td>64892.0</td>\n",
              "    </tr>\n",
              "    <tr>\n",
              "      <th>3</th>\n",
              "      <td>93963.0</td>\n",
              "      <td>84613.0</td>\n",
              "      <td>175184.0</td>\n",
              "      <td>3130.0</td>\n",
              "      <td>19380.0</td>\n",
              "      <td>-186036.0</td>\n",
              "      <td>36056.0</td>\n",
              "      <td>-33320.0</td>\n",
              "      <td>-76854.0</td>\n",
              "      <td>-89161.0</td>\n",
              "      <td>60325.0</td>\n",
              "      <td>32355.0</td>\n",
              "      <td>80968.0</td>\n",
              "    </tr>\n",
              "    <tr>\n",
              "      <th>4</th>\n",
              "      <td>23965.0</td>\n",
              "      <td>93963.0</td>\n",
              "      <td>84613.0</td>\n",
              "      <td>175184.0</td>\n",
              "      <td>3130.0</td>\n",
              "      <td>19380.0</td>\n",
              "      <td>-186036.0</td>\n",
              "      <td>36056.0</td>\n",
              "      <td>-33320.0</td>\n",
              "      <td>-76854.0</td>\n",
              "      <td>-89161.0</td>\n",
              "      <td>60325.0</td>\n",
              "      <td>32355.0</td>\n",
              "    </tr>\n",
              "  </tbody>\n",
              "</table>\n",
              "</div>\n",
              "      <button class=\"colab-df-convert\" onclick=\"convertToInteractive('df-a713ed46-bcc9-48df-b206-4ef4d54a84ef')\"\n",
              "              title=\"Convert this dataframe to an interactive table.\"\n",
              "              style=\"display:none;\">\n",
              "        \n",
              "  <svg xmlns=\"http://www.w3.org/2000/svg\" height=\"24px\"viewBox=\"0 0 24 24\"\n",
              "       width=\"24px\">\n",
              "    <path d=\"M0 0h24v24H0V0z\" fill=\"none\"/>\n",
              "    <path d=\"M18.56 5.44l.94 2.06.94-2.06 2.06-.94-2.06-.94-.94-2.06-.94 2.06-2.06.94zm-11 1L8.5 8.5l.94-2.06 2.06-.94-2.06-.94L8.5 2.5l-.94 2.06-2.06.94zm10 10l.94 2.06.94-2.06 2.06-.94-2.06-.94-.94-2.06-.94 2.06-2.06.94z\"/><path d=\"M17.41 7.96l-1.37-1.37c-.4-.4-.92-.59-1.43-.59-.52 0-1.04.2-1.43.59L10.3 9.45l-7.72 7.72c-.78.78-.78 2.05 0 2.83L4 21.41c.39.39.9.59 1.41.59.51 0 1.02-.2 1.41-.59l7.78-7.78 2.81-2.81c.8-.78.8-2.07 0-2.86zM5.41 20L4 18.59l7.72-7.72 1.47 1.35L5.41 20z\"/>\n",
              "  </svg>\n",
              "      </button>\n",
              "      \n",
              "  <style>\n",
              "    .colab-df-container {\n",
              "      display:flex;\n",
              "      flex-wrap:wrap;\n",
              "      gap: 12px;\n",
              "    }\n",
              "\n",
              "    .colab-df-convert {\n",
              "      background-color: #E8F0FE;\n",
              "      border: none;\n",
              "      border-radius: 50%;\n",
              "      cursor: pointer;\n",
              "      display: none;\n",
              "      fill: #1967D2;\n",
              "      height: 32px;\n",
              "      padding: 0 0 0 0;\n",
              "      width: 32px;\n",
              "    }\n",
              "\n",
              "    .colab-df-convert:hover {\n",
              "      background-color: #E2EBFA;\n",
              "      box-shadow: 0px 1px 2px rgba(60, 64, 67, 0.3), 0px 1px 3px 1px rgba(60, 64, 67, 0.15);\n",
              "      fill: #174EA6;\n",
              "    }\n",
              "\n",
              "    [theme=dark] .colab-df-convert {\n",
              "      background-color: #3B4455;\n",
              "      fill: #D2E3FC;\n",
              "    }\n",
              "\n",
              "    [theme=dark] .colab-df-convert:hover {\n",
              "      background-color: #434B5C;\n",
              "      box-shadow: 0px 1px 3px 1px rgba(0, 0, 0, 0.15);\n",
              "      filter: drop-shadow(0px 1px 2px rgba(0, 0, 0, 0.3));\n",
              "      fill: #FFFFFF;\n",
              "    }\n",
              "  </style>\n",
              "\n",
              "      <script>\n",
              "        const buttonEl =\n",
              "          document.querySelector('#df-a713ed46-bcc9-48df-b206-4ef4d54a84ef button.colab-df-convert');\n",
              "        buttonEl.style.display =\n",
              "          google.colab.kernel.accessAllowed ? 'block' : 'none';\n",
              "\n",
              "        async function convertToInteractive(key) {\n",
              "          const element = document.querySelector('#df-a713ed46-bcc9-48df-b206-4ef4d54a84ef');\n",
              "          const dataTable =\n",
              "            await google.colab.kernel.invokeFunction('convertToInteractive',\n",
              "                                                     [key], {});\n",
              "          if (!dataTable) return;\n",
              "\n",
              "          const docLinkHtml = 'Like what you see? Visit the ' +\n",
              "            '<a target=\"_blank\" href=https://colab.research.google.com/notebooks/data_table.ipynb>data table notebook</a>'\n",
              "            + ' to learn more about interactive tables.';\n",
              "          element.innerHTML = '';\n",
              "          dataTable['output_type'] = 'display_data';\n",
              "          await google.colab.output.renderOutput(dataTable, element);\n",
              "          const docLink = document.createElement('div');\n",
              "          docLink.innerHTML = docLinkHtml;\n",
              "          element.appendChild(docLink);\n",
              "        }\n",
              "      </script>\n",
              "    </div>\n",
              "  </div>\n",
              "  "
            ]
          },
          "metadata": {},
          "execution_count": 21
        }
      ],
      "source": [
        "Final_data.head()"
      ]
    },
    {
      "cell_type": "code",
      "execution_count": 22,
      "id": "fc891922",
      "metadata": {
        "colab": {
          "base_uri": "https://localhost:8080/"
        },
        "id": "fc891922",
        "outputId": "96dca384-a496-49a4-ba96-73cf9975e020"
      },
      "outputs": [
        {
          "output_type": "stream",
          "name": "stdout",
          "text": [
            "Train Data Shape: (35, 13)\n",
            "Test Data Shape: (12, 13)\n"
          ]
        }
      ],
      "source": [
        "### Splotting train test data set\n",
        "\n",
        "train_data = Final_data[:-12]\n",
        "test_data = Final_data[-12:]\n",
        "print('Train Data Shape:', train_data.shape)\n",
        "print('Test Data Shape:', test_data.shape)"
      ]
    },
    {
      "cell_type": "code",
      "execution_count": 23,
      "id": "f5f47226",
      "metadata": {
        "id": "f5f47226"
      },
      "outputs": [],
      "source": [
        "from sklearn.preprocessing import MinMaxScaler\n",
        "\n",
        "\n",
        "scaler = MinMaxScaler(feature_range=(-1,1))\n",
        "scaler.fit(train_data)\n",
        "train_data = scaler.transform(train_data)\n",
        "test_data = scaler.transform(test_data)"
      ]
    },
    {
      "cell_type": "code",
      "execution_count": 24,
      "id": "49a31a02",
      "metadata": {
        "colab": {
          "base_uri": "https://localhost:8080/"
        },
        "id": "49a31a02",
        "outputId": "ab68db85-3b38-4c24-863a-9c2dfeec2003"
      },
      "outputs": [
        {
          "output_type": "stream",
          "name": "stdout",
          "text": [
            "X_train Shape: (35, 12)\n",
            "y_train Shape: (35,)\n",
            "X_test Shape: (12, 12)\n",
            "y_test Shape: (12,)\n"
          ]
        }
      ],
      "source": [
        "X_train, y_train = train_data[:,1:], train_data[:,0:1]\n",
        "X_test, y_test = test_data[:,1:], test_data[:,0:1]\n",
        "y_train = y_train.ravel()\n",
        "y_test = y_test.ravel()\n",
        "print('X_train Shape:', X_train.shape)\n",
        "print('y_train Shape:', y_train.shape)\n",
        "print('X_test Shape:', X_test.shape)\n",
        "print('y_test Shape:', y_test.shape)"
      ]
    },
    {
      "cell_type": "code",
      "execution_count": 25,
      "id": "337f0d64",
      "metadata": {
        "id": "337f0d64"
      },
      "outputs": [],
      "source": [
        "sales_dates = monthly_sale['date'][-12:].reset_index(drop=True)\n",
        "predict_df = pd.DataFrame(sales_dates)"
      ]
    },
    {
      "cell_type": "code",
      "execution_count": 26,
      "id": "1903dd9a",
      "metadata": {
        "id": "1903dd9a"
      },
      "outputs": [],
      "source": [
        "act_sales = monthly_sale['sales'][-13:].to_list()"
      ]
    },
    {
      "cell_type": "code",
      "execution_count": 27,
      "id": "45cfcdc7",
      "metadata": {
        "id": "45cfcdc7"
      },
      "outputs": [],
      "source": [
        "\n",
        "\n",
        "linreg_model = LinearRegression()\n",
        "linreg_model.fit(X_train, y_train)\n",
        "linreg_pred = linreg_model.predict(X_test)\n"
      ]
    },
    {
      "cell_type": "code",
      "execution_count": 28,
      "id": "d23c78e2",
      "metadata": {
        "id": "d23c78e2"
      },
      "outputs": [],
      "source": [
        "linreg_pred = linreg_pred.reshape(-1,1)\n",
        "linreg_pred_test_set = np.concatenate([linreg_pred,X_test], axis=1)\n",
        "linreg_pred_test_set = scaler.inverse_transform(linreg_pred_test_set)"
      ]
    },
    {
      "cell_type": "code",
      "execution_count": 29,
      "id": "1786af74",
      "metadata": {
        "id": "1786af74"
      },
      "outputs": [],
      "source": [
        "result_list = []\n",
        "for index in range(0, len(linreg_pred_test_set)):\n",
        "    result_list.append(linreg_pred_test_set[index][0] + act_sales[index])\n",
        "linreg_pred_series = pd.Series(result_list,name='linreg_pred')\n",
        "predict_df = predict_df.merge(linreg_pred_series, left_index=True, right_index=True)\n"
      ]
    },
    {
      "cell_type": "code",
      "execution_count": 31,
      "id": "4c7f863c",
      "metadata": {
        "colab": {
          "base_uri": "https://localhost:8080/",
          "height": 458
        },
        "id": "4c7f863c",
        "outputId": "76fdc4ce-74ed-4400-e105-3ce91096b01b"
      },
      "outputs": [
        {
          "output_type": "display_data",
          "data": {
            "text/plain": [
              "<Figure size 1080x504 with 1 Axes>"
            ],
            "image/png": "[encoded data removed]"
          },
          "metadata": {
            "needs_background": "light"
          }
        }
      ],
      "source": [
        "plt.figure(figsize=(15,7))\n",
        "plt.plot(monthly_sale['date'], monthly_sale['sales'])\n",
        "plt.plot(predict_df['date'], predict_df['linreg_pred'])\n",
        "plt.title(\"Sales Prediction using Linear Regression\")\n",
        "plt.xlabel(\"Date\")\n",
        "plt.ylabel(\"Sales\")\n",
        "plt.legend([\"Original Sales\", \"Predicted Sales\"])\n",
        "plt.show()"
      ]
    },
    {
      "cell_type": "code",
      "execution_count": null,
      "id": "e2c98605",
      "metadata": {
        "id": "e2c98605"
      },
      "outputs": [],
      "source": []
    }
  ],
  "metadata": {
    "kernelspec": {
      "display_name": "Python 3",
      "language": "python",
      "name": "python3"
    },
    "language_info": {
      "codemirror_mode": {
        "name": "ipython",
        "version": 3
      },
      "file_extension": ".py",
      "mimetype": "text/x-python",
      "name": "python",
      "nbconvert_exporter": "python",
      "pygments_lexer": "ipython3",
      "version": "3.8.8"
    },
    "colab": {
      "provenance": []
    }
  },
  "nbformat": 4,
  "nbformat_minor": 5
}